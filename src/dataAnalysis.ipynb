{
 "cells": [
  {
   "cell_type": "code",
   "execution_count": 5,
   "metadata": {
    "vscode": {
     "languageId": "r"
    }
   },
   "outputs": [],
   "source": [
    "library(renv)\n",
    "library(tidyverse)"
   ]
  },
  {
   "cell_type": "code",
   "execution_count": 6,
   "metadata": {
    "vscode": {
     "languageId": "r"
    }
   },
   "outputs": [
    {
     "name": "stderr",
     "output_type": "stream",
     "text": [
      "\u001b[1m\u001b[22mNew names:\n",
      "\u001b[36m•\u001b[39m `` -> `...1`\n",
      "\u001b[1mRows: \u001b[22m\u001b[34m70\u001b[39m \u001b[1mColumns: \u001b[22m\u001b[34m130\u001b[39m\n",
      "\u001b[36m──\u001b[39m \u001b[1mColumn specification\u001b[22m \u001b[36m─────────────────────────────────────────────────────────────────────────────────────────────\u001b[39m\n",
      "\u001b[1mDelimiter:\u001b[22m \",\"\n",
      "\u001b[31mchr\u001b[39m  (13): ...1, championName, individualPosition, lane, missions, perks, pu...\n",
      "\u001b[32mdbl\u001b[39m (108): allInPings, assistMePings, assists, baronKills, basicPings, bount...\n",
      "\u001b[33mlgl\u001b[39m   (9): eligibleForProgression, firstBloodAssist, firstBloodKill, firstTo...\n",
      "\n",
      "\u001b[36mℹ\u001b[39m Use `spec()` to retrieve the full column specification for this data.\n",
      "\u001b[36mℹ\u001b[39m Specify the column types or set `show_col_types = FALSE` to quiet this message.\n"
     ]
    },
    {
     "data": {
      "text/html": [
       "<table class=\"dataframe\">\n",
       "<caption>A tibble: 6 × 130</caption>\n",
       "<thead>\n",
       "\t<tr><th scope=col>...1</th><th scope=col>allInPings</th><th scope=col>assistMePings</th><th scope=col>assists</th><th scope=col>baronKills</th><th scope=col>basicPings</th><th scope=col>bountyLevel</th><th scope=col>champExperience</th><th scope=col>champLevel</th><th scope=col>championId</th><th scope=col>⋯</th><th scope=col>turretKills</th><th scope=col>turretTakedowns</th><th scope=col>turretsLost</th><th scope=col>unrealKills</th><th scope=col>visionClearedPings</th><th scope=col>visionScore</th><th scope=col>visionWardsBoughtInGame</th><th scope=col>wardsKilled</th><th scope=col>wardsPlaced</th><th scope=col>win</th></tr>\n",
       "\t<tr><th scope=col>&lt;chr&gt;</th><th scope=col>&lt;dbl&gt;</th><th scope=col>&lt;dbl&gt;</th><th scope=col>&lt;dbl&gt;</th><th scope=col>&lt;dbl&gt;</th><th scope=col>&lt;dbl&gt;</th><th scope=col>&lt;dbl&gt;</th><th scope=col>&lt;dbl&gt;</th><th scope=col>&lt;dbl&gt;</th><th scope=col>&lt;dbl&gt;</th><th scope=col>⋯</th><th scope=col>&lt;dbl&gt;</th><th scope=col>&lt;dbl&gt;</th><th scope=col>&lt;dbl&gt;</th><th scope=col>&lt;dbl&gt;</th><th scope=col>&lt;dbl&gt;</th><th scope=col>&lt;dbl&gt;</th><th scope=col>&lt;dbl&gt;</th><th scope=col>&lt;dbl&gt;</th><th scope=col>&lt;dbl&gt;</th><th scope=col>&lt;lgl&gt;</th></tr>\n",
       "</thead>\n",
       "<tbody>\n",
       "\t<tr><td>NA1_4926006174</td><td>0</td><td>0</td><td>9</td><td>0</td><td>0</td><td>0</td><td>11799</td><td>14</td><td>777</td><td>⋯</td><td>1</td><td>1</td><td> 1</td><td>0</td><td>0</td><td>15</td><td>0</td><td>1</td><td> 6</td><td> TRUE</td></tr>\n",
       "\t<tr><td>NA1_4925975967</td><td>4</td><td>2</td><td>6</td><td>0</td><td>0</td><td>1</td><td>19365</td><td>18</td><td>777</td><td>⋯</td><td>1</td><td>3</td><td> 4</td><td>0</td><td>0</td><td>24</td><td>1</td><td>0</td><td>12</td><td> TRUE</td></tr>\n",
       "\t<tr><td>NA1_4925949849</td><td>1</td><td>0</td><td>4</td><td>0</td><td>0</td><td>2</td><td>11829</td><td>14</td><td> 84</td><td>⋯</td><td>0</td><td>1</td><td> 2</td><td>0</td><td>0</td><td>12</td><td>0</td><td>1</td><td> 6</td><td> TRUE</td></tr>\n",
       "\t<tr><td>NA1_4925113905</td><td>0</td><td>0</td><td>5</td><td>0</td><td>0</td><td>1</td><td>14975</td><td>16</td><td>777</td><td>⋯</td><td>1</td><td>2</td><td> 1</td><td>0</td><td>0</td><td>20</td><td>0</td><td>4</td><td> 8</td><td> TRUE</td></tr>\n",
       "\t<tr><td>NA1_4925061795</td><td>0</td><td>0</td><td>4</td><td>0</td><td>0</td><td>0</td><td>12950</td><td>14</td><td> 61</td><td>⋯</td><td>1</td><td>2</td><td>11</td><td>0</td><td>0</td><td>12</td><td>1</td><td>2</td><td> 6</td><td>FALSE</td></tr>\n",
       "\t<tr><td>NA1_4925026917</td><td>2</td><td>4</td><td>7</td><td>0</td><td>0</td><td>0</td><td>12155</td><td>14</td><td> 61</td><td>⋯</td><td>1</td><td>2</td><td> 8</td><td>0</td><td>0</td><td>18</td><td>1</td><td>2</td><td> 8</td><td>FALSE</td></tr>\n",
       "</tbody>\n",
       "</table>\n"
      ],
      "text/latex": [
       "A tibble: 6 × 130\n",
       "\\begin{tabular}{lllllllllllllllllllll}\n",
       " ...1 & allInPings & assistMePings & assists & baronKills & basicPings & bountyLevel & champExperience & champLevel & championId & ⋯ & turretKills & turretTakedowns & turretsLost & unrealKills & visionClearedPings & visionScore & visionWardsBoughtInGame & wardsKilled & wardsPlaced & win\\\\\n",
       " <chr> & <dbl> & <dbl> & <dbl> & <dbl> & <dbl> & <dbl> & <dbl> & <dbl> & <dbl> & ⋯ & <dbl> & <dbl> & <dbl> & <dbl> & <dbl> & <dbl> & <dbl> & <dbl> & <dbl> & <lgl>\\\\\n",
       "\\hline\n",
       "\t NA1\\_4926006174 & 0 & 0 & 9 & 0 & 0 & 0 & 11799 & 14 & 777 & ⋯ & 1 & 1 &  1 & 0 & 0 & 15 & 0 & 1 &  6 &  TRUE\\\\\n",
       "\t NA1\\_4925975967 & 4 & 2 & 6 & 0 & 0 & 1 & 19365 & 18 & 777 & ⋯ & 1 & 3 &  4 & 0 & 0 & 24 & 1 & 0 & 12 &  TRUE\\\\\n",
       "\t NA1\\_4925949849 & 1 & 0 & 4 & 0 & 0 & 2 & 11829 & 14 &  84 & ⋯ & 0 & 1 &  2 & 0 & 0 & 12 & 0 & 1 &  6 &  TRUE\\\\\n",
       "\t NA1\\_4925113905 & 0 & 0 & 5 & 0 & 0 & 1 & 14975 & 16 & 777 & ⋯ & 1 & 2 &  1 & 0 & 0 & 20 & 0 & 4 &  8 &  TRUE\\\\\n",
       "\t NA1\\_4925061795 & 0 & 0 & 4 & 0 & 0 & 0 & 12950 & 14 &  61 & ⋯ & 1 & 2 & 11 & 0 & 0 & 12 & 1 & 2 &  6 & FALSE\\\\\n",
       "\t NA1\\_4925026917 & 2 & 4 & 7 & 0 & 0 & 0 & 12155 & 14 &  61 & ⋯ & 1 & 2 &  8 & 0 & 0 & 18 & 1 & 2 &  8 & FALSE\\\\\n",
       "\\end{tabular}\n"
      ],
      "text/markdown": [
       "\n",
       "A tibble: 6 × 130\n",
       "\n",
       "| ...1 &lt;chr&gt; | allInPings &lt;dbl&gt; | assistMePings &lt;dbl&gt; | assists &lt;dbl&gt; | baronKills &lt;dbl&gt; | basicPings &lt;dbl&gt; | bountyLevel &lt;dbl&gt; | champExperience &lt;dbl&gt; | champLevel &lt;dbl&gt; | championId &lt;dbl&gt; | ⋯ ⋯ | turretKills &lt;dbl&gt; | turretTakedowns &lt;dbl&gt; | turretsLost &lt;dbl&gt; | unrealKills &lt;dbl&gt; | visionClearedPings &lt;dbl&gt; | visionScore &lt;dbl&gt; | visionWardsBoughtInGame &lt;dbl&gt; | wardsKilled &lt;dbl&gt; | wardsPlaced &lt;dbl&gt; | win &lt;lgl&gt; |\n",
       "|---|---|---|---|---|---|---|---|---|---|---|---|---|---|---|---|---|---|---|---|---|\n",
       "| NA1_4926006174 | 0 | 0 | 9 | 0 | 0 | 0 | 11799 | 14 | 777 | ⋯ | 1 | 1 |  1 | 0 | 0 | 15 | 0 | 1 |  6 |  TRUE |\n",
       "| NA1_4925975967 | 4 | 2 | 6 | 0 | 0 | 1 | 19365 | 18 | 777 | ⋯ | 1 | 3 |  4 | 0 | 0 | 24 | 1 | 0 | 12 |  TRUE |\n",
       "| NA1_4925949849 | 1 | 0 | 4 | 0 | 0 | 2 | 11829 | 14 |  84 | ⋯ | 0 | 1 |  2 | 0 | 0 | 12 | 0 | 1 |  6 |  TRUE |\n",
       "| NA1_4925113905 | 0 | 0 | 5 | 0 | 0 | 1 | 14975 | 16 | 777 | ⋯ | 1 | 2 |  1 | 0 | 0 | 20 | 0 | 4 |  8 |  TRUE |\n",
       "| NA1_4925061795 | 0 | 0 | 4 | 0 | 0 | 0 | 12950 | 14 |  61 | ⋯ | 1 | 2 | 11 | 0 | 0 | 12 | 1 | 2 |  6 | FALSE |\n",
       "| NA1_4925026917 | 2 | 4 | 7 | 0 | 0 | 0 | 12155 | 14 |  61 | ⋯ | 1 | 2 |  8 | 0 | 0 | 18 | 1 | 2 |  8 | FALSE |\n",
       "\n"
      ],
      "text/plain": [
       "  ...1           allInPings assistMePings assists baronKills basicPings\n",
       "1 NA1_4926006174 0          0             9       0          0         \n",
       "2 NA1_4925975967 4          2             6       0          0         \n",
       "3 NA1_4925949849 1          0             4       0          0         \n",
       "4 NA1_4925113905 0          0             5       0          0         \n",
       "5 NA1_4925061795 0          0             4       0          0         \n",
       "6 NA1_4925026917 2          4             7       0          0         \n",
       "  bountyLevel champExperience champLevel championId ⋯ turretKills\n",
       "1 0           11799           14         777        ⋯ 1          \n",
       "2 1           19365           18         777        ⋯ 1          \n",
       "3 2           11829           14          84        ⋯ 0          \n",
       "4 1           14975           16         777        ⋯ 1          \n",
       "5 0           12950           14          61        ⋯ 1          \n",
       "6 0           12155           14          61        ⋯ 1          \n",
       "  turretTakedowns turretsLost unrealKills visionClearedPings visionScore\n",
       "1 1                1          0           0                  15         \n",
       "2 3                4          0           0                  24         \n",
       "3 1                2          0           0                  12         \n",
       "4 2                1          0           0                  20         \n",
       "5 2               11          0           0                  12         \n",
       "6 2                8          0           0                  18         \n",
       "  visionWardsBoughtInGame wardsKilled wardsPlaced win  \n",
       "1 0                       1            6           TRUE\n",
       "2 1                       0           12           TRUE\n",
       "3 0                       1            6           TRUE\n",
       "4 0                       4            8           TRUE\n",
       "5 1                       2            6          FALSE\n",
       "6 1                       2            8          FALSE"
      ]
     },
     "metadata": {},
     "output_type": "display_data"
    }
   ],
   "source": [
    "data <- read_csv(\"Data/gameData.csv\")\n",
    "head(data)"
   ]
  },
  {
   "cell_type": "code",
   "execution_count": 7,
   "metadata": {
    "vscode": {
     "languageId": "r"
    }
   },
   "outputs": [],
   "source": [
    "data$win <- as.integer(as.logical(data$win))"
   ]
  }
 ],
 "metadata": {
  "kernelspec": {
   "display_name": "R",
   "language": "R",
   "name": "ir"
  },
  "language_info": {
   "codemirror_mode": "r",
   "file_extension": ".r",
   "mimetype": "text/x-r-source",
   "name": "R",
   "pygments_lexer": "r",
   "version": "4.3.2"
  }
 },
 "nbformat": 4,
 "nbformat_minor": 2
}
