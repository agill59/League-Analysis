{
 "cells": [
  {
   "cell_type": "code",
   "execution_count": 42,
   "metadata": {
    "vscode": {
     "languageId": "r"
    }
   },
   "outputs": [],
   "source": [
    "library(renv)\n",
    "library(glmnet)\n",
    "library(tidyverse)\n",
    "library(caret)\n",
    "library(rstan)\n",
    "library(bayesplot)"
   ]
  },
  {
   "cell_type": "code",
   "execution_count": 43,
   "metadata": {
    "vscode": {
     "languageId": "r"
    }
   },
   "outputs": [
    {
     "name": "stderr",
     "output_type": "stream",
     "text": [
      "\u001b[1m\u001b[22mNew names:\n",
      "\u001b[36m•\u001b[39m `` -> `...1`\n",
      "\u001b[1mRows: \u001b[22m\u001b[34m70\u001b[39m \u001b[1mColumns: \u001b[22m\u001b[34m130\u001b[39m\n",
      "\u001b[36m──\u001b[39m \u001b[1mColumn specification\u001b[22m \u001b[36m────────────────────────────────────────────────────────\u001b[39m\n",
      "\u001b[1mDelimiter:\u001b[22m \",\"\n",
      "\u001b[31mchr\u001b[39m  (13): ...1, championName, individualPosition, lane, missions, perks, pu...\n",
      "\u001b[32mdbl\u001b[39m (108): allInPings, assistMePings, assists, baronKills, basicPings, bount...\n",
      "\u001b[33mlgl\u001b[39m   (9): eligibleForProgression, firstBloodAssist, firstBloodKill, firstTo...\n",
      "\n",
      "\u001b[36mℹ\u001b[39m Use `spec()` to retrieve the full column specification for this data.\n",
      "\u001b[36mℹ\u001b[39m Specify the column types or set `show_col_types = FALSE` to quiet this message.\n"
     ]
    },
    {
     "data": {
      "text/html": [
       "<table class=\"dataframe\">\n",
       "<caption>A tibble: 6 × 130</caption>\n",
       "<thead>\n",
       "\t<tr><th scope=col>...1</th><th scope=col>allInPings</th><th scope=col>assistMePings</th><th scope=col>assists</th><th scope=col>baronKills</th><th scope=col>basicPings</th><th scope=col>bountyLevel</th><th scope=col>champExperience</th><th scope=col>champLevel</th><th scope=col>championId</th><th scope=col>⋯</th><th scope=col>turretKills</th><th scope=col>turretTakedowns</th><th scope=col>turretsLost</th><th scope=col>unrealKills</th><th scope=col>visionClearedPings</th><th scope=col>visionScore</th><th scope=col>visionWardsBoughtInGame</th><th scope=col>wardsKilled</th><th scope=col>wardsPlaced</th><th scope=col>win</th></tr>\n",
       "\t<tr><th scope=col>&lt;chr&gt;</th><th scope=col>&lt;dbl&gt;</th><th scope=col>&lt;dbl&gt;</th><th scope=col>&lt;dbl&gt;</th><th scope=col>&lt;dbl&gt;</th><th scope=col>&lt;dbl&gt;</th><th scope=col>&lt;dbl&gt;</th><th scope=col>&lt;dbl&gt;</th><th scope=col>&lt;dbl&gt;</th><th scope=col>&lt;dbl&gt;</th><th scope=col>⋯</th><th scope=col>&lt;dbl&gt;</th><th scope=col>&lt;dbl&gt;</th><th scope=col>&lt;dbl&gt;</th><th scope=col>&lt;dbl&gt;</th><th scope=col>&lt;dbl&gt;</th><th scope=col>&lt;dbl&gt;</th><th scope=col>&lt;dbl&gt;</th><th scope=col>&lt;dbl&gt;</th><th scope=col>&lt;dbl&gt;</th><th scope=col>&lt;lgl&gt;</th></tr>\n",
       "</thead>\n",
       "<tbody>\n",
       "\t<tr><td>NA1_4926006174</td><td>0</td><td>0</td><td>9</td><td>0</td><td>0</td><td>0</td><td>11799</td><td>14</td><td>777</td><td>⋯</td><td>1</td><td>1</td><td> 1</td><td>0</td><td>0</td><td>15</td><td>0</td><td>1</td><td> 6</td><td> TRUE</td></tr>\n",
       "\t<tr><td>NA1_4925975967</td><td>4</td><td>2</td><td>6</td><td>0</td><td>0</td><td>1</td><td>19365</td><td>18</td><td>777</td><td>⋯</td><td>1</td><td>3</td><td> 4</td><td>0</td><td>0</td><td>24</td><td>1</td><td>0</td><td>12</td><td> TRUE</td></tr>\n",
       "\t<tr><td>NA1_4925949849</td><td>1</td><td>0</td><td>4</td><td>0</td><td>0</td><td>2</td><td>11829</td><td>14</td><td> 84</td><td>⋯</td><td>0</td><td>1</td><td> 2</td><td>0</td><td>0</td><td>12</td><td>0</td><td>1</td><td> 6</td><td> TRUE</td></tr>\n",
       "\t<tr><td>NA1_4925113905</td><td>0</td><td>0</td><td>5</td><td>0</td><td>0</td><td>1</td><td>14975</td><td>16</td><td>777</td><td>⋯</td><td>1</td><td>2</td><td> 1</td><td>0</td><td>0</td><td>20</td><td>0</td><td>4</td><td> 8</td><td> TRUE</td></tr>\n",
       "\t<tr><td>NA1_4925061795</td><td>0</td><td>0</td><td>4</td><td>0</td><td>0</td><td>0</td><td>12950</td><td>14</td><td> 61</td><td>⋯</td><td>1</td><td>2</td><td>11</td><td>0</td><td>0</td><td>12</td><td>1</td><td>2</td><td> 6</td><td>FALSE</td></tr>\n",
       "\t<tr><td>NA1_4925026917</td><td>2</td><td>4</td><td>7</td><td>0</td><td>0</td><td>0</td><td>12155</td><td>14</td><td> 61</td><td>⋯</td><td>1</td><td>2</td><td> 8</td><td>0</td><td>0</td><td>18</td><td>1</td><td>2</td><td> 8</td><td>FALSE</td></tr>\n",
       "</tbody>\n",
       "</table>\n"
      ],
      "text/latex": [
       "A tibble: 6 × 130\n",
       "\\begin{tabular}{lllllllllllllllllllll}\n",
       " ...1 & allInPings & assistMePings & assists & baronKills & basicPings & bountyLevel & champExperience & champLevel & championId & ⋯ & turretKills & turretTakedowns & turretsLost & unrealKills & visionClearedPings & visionScore & visionWardsBoughtInGame & wardsKilled & wardsPlaced & win\\\\\n",
       " <chr> & <dbl> & <dbl> & <dbl> & <dbl> & <dbl> & <dbl> & <dbl> & <dbl> & <dbl> & ⋯ & <dbl> & <dbl> & <dbl> & <dbl> & <dbl> & <dbl> & <dbl> & <dbl> & <dbl> & <lgl>\\\\\n",
       "\\hline\n",
       "\t NA1\\_4926006174 & 0 & 0 & 9 & 0 & 0 & 0 & 11799 & 14 & 777 & ⋯ & 1 & 1 &  1 & 0 & 0 & 15 & 0 & 1 &  6 &  TRUE\\\\\n",
       "\t NA1\\_4925975967 & 4 & 2 & 6 & 0 & 0 & 1 & 19365 & 18 & 777 & ⋯ & 1 & 3 &  4 & 0 & 0 & 24 & 1 & 0 & 12 &  TRUE\\\\\n",
       "\t NA1\\_4925949849 & 1 & 0 & 4 & 0 & 0 & 2 & 11829 & 14 &  84 & ⋯ & 0 & 1 &  2 & 0 & 0 & 12 & 0 & 1 &  6 &  TRUE\\\\\n",
       "\t NA1\\_4925113905 & 0 & 0 & 5 & 0 & 0 & 1 & 14975 & 16 & 777 & ⋯ & 1 & 2 &  1 & 0 & 0 & 20 & 0 & 4 &  8 &  TRUE\\\\\n",
       "\t NA1\\_4925061795 & 0 & 0 & 4 & 0 & 0 & 0 & 12950 & 14 &  61 & ⋯ & 1 & 2 & 11 & 0 & 0 & 12 & 1 & 2 &  6 & FALSE\\\\\n",
       "\t NA1\\_4925026917 & 2 & 4 & 7 & 0 & 0 & 0 & 12155 & 14 &  61 & ⋯ & 1 & 2 &  8 & 0 & 0 & 18 & 1 & 2 &  8 & FALSE\\\\\n",
       "\\end{tabular}\n"
      ],
      "text/markdown": [
       "\n",
       "A tibble: 6 × 130\n",
       "\n",
       "| ...1 &lt;chr&gt; | allInPings &lt;dbl&gt; | assistMePings &lt;dbl&gt; | assists &lt;dbl&gt; | baronKills &lt;dbl&gt; | basicPings &lt;dbl&gt; | bountyLevel &lt;dbl&gt; | champExperience &lt;dbl&gt; | champLevel &lt;dbl&gt; | championId &lt;dbl&gt; | ⋯ ⋯ | turretKills &lt;dbl&gt; | turretTakedowns &lt;dbl&gt; | turretsLost &lt;dbl&gt; | unrealKills &lt;dbl&gt; | visionClearedPings &lt;dbl&gt; | visionScore &lt;dbl&gt; | visionWardsBoughtInGame &lt;dbl&gt; | wardsKilled &lt;dbl&gt; | wardsPlaced &lt;dbl&gt; | win &lt;lgl&gt; |\n",
       "|---|---|---|---|---|---|---|---|---|---|---|---|---|---|---|---|---|---|---|---|---|\n",
       "| NA1_4926006174 | 0 | 0 | 9 | 0 | 0 | 0 | 11799 | 14 | 777 | ⋯ | 1 | 1 |  1 | 0 | 0 | 15 | 0 | 1 |  6 |  TRUE |\n",
       "| NA1_4925975967 | 4 | 2 | 6 | 0 | 0 | 1 | 19365 | 18 | 777 | ⋯ | 1 | 3 |  4 | 0 | 0 | 24 | 1 | 0 | 12 |  TRUE |\n",
       "| NA1_4925949849 | 1 | 0 | 4 | 0 | 0 | 2 | 11829 | 14 |  84 | ⋯ | 0 | 1 |  2 | 0 | 0 | 12 | 0 | 1 |  6 |  TRUE |\n",
       "| NA1_4925113905 | 0 | 0 | 5 | 0 | 0 | 1 | 14975 | 16 | 777 | ⋯ | 1 | 2 |  1 | 0 | 0 | 20 | 0 | 4 |  8 |  TRUE |\n",
       "| NA1_4925061795 | 0 | 0 | 4 | 0 | 0 | 0 | 12950 | 14 |  61 | ⋯ | 1 | 2 | 11 | 0 | 0 | 12 | 1 | 2 |  6 | FALSE |\n",
       "| NA1_4925026917 | 2 | 4 | 7 | 0 | 0 | 0 | 12155 | 14 |  61 | ⋯ | 1 | 2 |  8 | 0 | 0 | 18 | 1 | 2 |  8 | FALSE |\n",
       "\n"
      ],
      "text/plain": [
       "  ...1           allInPings assistMePings assists baronKills basicPings\n",
       "1 NA1_4926006174 0          0             9       0          0         \n",
       "2 NA1_4925975967 4          2             6       0          0         \n",
       "3 NA1_4925949849 1          0             4       0          0         \n",
       "4 NA1_4925113905 0          0             5       0          0         \n",
       "5 NA1_4925061795 0          0             4       0          0         \n",
       "6 NA1_4925026917 2          4             7       0          0         \n",
       "  bountyLevel champExperience champLevel championId ⋯ turretKills\n",
       "1 0           11799           14         777        ⋯ 1          \n",
       "2 1           19365           18         777        ⋯ 1          \n",
       "3 2           11829           14          84        ⋯ 0          \n",
       "4 1           14975           16         777        ⋯ 1          \n",
       "5 0           12950           14          61        ⋯ 1          \n",
       "6 0           12155           14          61        ⋯ 1          \n",
       "  turretTakedowns turretsLost unrealKills visionClearedPings visionScore\n",
       "1 1                1          0           0                  15         \n",
       "2 3                4          0           0                  24         \n",
       "3 1                2          0           0                  12         \n",
       "4 2                1          0           0                  20         \n",
       "5 2               11          0           0                  12         \n",
       "6 2                8          0           0                  18         \n",
       "  visionWardsBoughtInGame wardsKilled wardsPlaced win  \n",
       "1 0                       1            6           TRUE\n",
       "2 1                       0           12           TRUE\n",
       "3 0                       1            6           TRUE\n",
       "4 0                       4            8           TRUE\n",
       "5 1                       2            6          FALSE\n",
       "6 1                       2            8          FALSE"
      ]
     },
     "metadata": {},
     "output_type": "display_data"
    }
   ],
   "source": [
    "data <- read_csv(\"../Data/gameData.csv\")\n",
    "head(data)"
   ]
  },
  {
   "cell_type": "code",
   "execution_count": null,
   "metadata": {
    "vscode": {
     "languageId": "r"
    }
   },
   "outputs": [],
   "source": [
    "droppedColumns <- c()\n",
    "for (i in 1:length(colnames(select_if(data, is.numeric)))){\n",
    "    column <- toString(colnames(select_if(data, is.numeric))[i])\n",
    "    if (sum(data[column]) == 0){\n",
    "        droppedColumns <- c(droppedColumns, column)\n",
    "    }\n",
    "}\n",
    "\n",
    "data <- data %>% select(-c(puuid, summonerName, riotIdGameName, riotIdTagline, summonerId, objectivesStolen, profileIcon, summoner1Id, nexusLost, nexusTakedowns))\n",
    "data <- data[, !colnames(data) %in% droppedColumns]\n",
    "\n",
    "data$win <- as.numeric(data$win)\n",
    "\n",
    "data_numeric <- data %>% select(where(is.numeric))\n",
    "\n",
    "data_numeric <- na.omit(data_numeric)\n",
    "\n",
    "X <- data_numeric %>% select(-win) %>% as.matrix()\n",
    "y <- data_numeric$win\n",
    "\n"
   ]
  },
  {
   "cell_type": "code",
   "execution_count": null,
   "metadata": {
    "vscode": {
     "languageId": "r"
    }
   },
   "outputs": [],
   "source": [
    "set.seed(123)\n",
    "train_index <- createDataPartition(y, p = 0.7, list = FALSE)\n",
    "X_train <- X[train_index, ]\n",
    "y_train <- y[train_index]\n",
    "X_test <- X[-train_index, ]\n",
    "y_test <- y[-train_index]\n",
    "\n"
   ]
  },
  {
   "cell_type": "code",
   "execution_count": null,
   "metadata": {
    "vscode": {
     "languageId": "r"
    }
   },
   "outputs": [],
   "source": [
    "X_train_scaled <- scale(X_train)\n",
    "X_test_scaled <- scale(X_test, center = attr(X_train_scaled, \"scaled:center\"), scale = attr(X_train_scaled, \"scaled:scale\"))\n",
    "\n",
    "cvfit <- cv.glmnet(X_train_scaled, y_train, family = \"binomial\", alpha = 1, type.measure = \"class\")\n",
    "\n"
   ]
  },
  {
   "cell_type": "code",
   "execution_count": 47,
   "metadata": {
    "vscode": {
     "languageId": "r"
    }
   },
   "outputs": [
    {
     "data": {
      "image/png": "[encoded data removed]",
      "text/plain": [
       "plot without title"
      ]
     },
     "metadata": {
      "image/png": {
       "height": 420,
       "width": 420
      }
     },
     "output_type": "display_data"
    }
   ],
   "source": [
    "plot(cvfit)"
   ]
  },
  {
   "cell_type": "code",
   "execution_count": null,
   "metadata": {
    "vscode": {
     "languageId": "r"
    }
   },
   "outputs": [
    {
     "name": "stdout",
     "output_type": "stream",
     "text": [
      "[1] \"assists\"             \"inhibitorTakedowns\"  \"kills\"              \n",
      "[4] \"largestKillingSpree\" \"turretTakedowns\"     \"turretsLost\"        \n"
     ]
    },
    {
     "data": {
      "text/plain": [
       "Confusion Matrix and Statistics\n",
       "\n",
       "          Reference\n",
       "Prediction  0  1\n",
       "         0 11  0\n",
       "         1  0 10\n",
       "                                     \n",
       "               Accuracy : 1          \n",
       "                 95% CI : (0.8389, 1)\n",
       "    No Information Rate : 0.5238     \n",
       "    P-Value [Acc > NIR] : 1.267e-06  \n",
       "                                     \n",
       "                  Kappa : 1          \n",
       "                                     \n",
       " Mcnemar's Test P-Value : NA         \n",
       "                                     \n",
       "            Sensitivity : 1.0000     \n",
       "            Specificity : 1.0000     \n",
       "         Pos Pred Value : 1.0000     \n",
       "         Neg Pred Value : 1.0000     \n",
       "             Prevalence : 0.5238     \n",
       "         Detection Rate : 0.5238     \n",
       "   Detection Prevalence : 0.5238     \n",
       "      Balanced Accuracy : 1.0000     \n",
       "                                     \n",
       "       'Positive' Class : 0          \n",
       "                                     "
      ]
     },
     "metadata": {},
     "output_type": "display_data"
    }
   ],
   "source": [
    "# Best lambda\n",
    "best_lambda <- cvfit$lambda.min\n",
    "\n",
    "lasso_coef <- coef(cvfit, s = \"lambda.min\")\n",
    "selected_features <- rownames(lasso_coef)[lasso_coef[, 1] != 0]\n",
    "selected_features <- selected_features[selected_features != \"(Intercept)\"]\n",
    "print(selected_features)\n",
    "\n",
    "pred_probs <- predict(cvfit, newx = X_test_scaled, s = \"lambda.min\", type = \"response\")\n",
    "pred_class <- ifelse(pred_probs > 0.5, 1, 0)\n",
    "\n",
    "confusionMatrix(factor(pred_class), factor(y_test))"
   ]
  },
  {
   "cell_type": "code",
   "execution_count": null,
   "metadata": {
    "vscode": {
     "languageId": "r"
    }
   },
   "outputs": [
    {
     "name": "stdout",
     "output_type": "stream",
     "text": [
      "BIC of the LASSO logistic regression model: 25.81679 \n"
     ]
    }
   ],
   "source": [
    "\n",
    "n_test <- nrow(X_test_scaled)\n",
    "\n",
    "k <- sum(lasso_coef[-1, 1] != 0)\n",
    "\n",
    "pred_probs <- predict(cvfit, newx = X_test_scaled, s = \"lambda.min\", type = \"response\")\n",
    "\n",
    "pred_probs <- pmin(pmax(pred_probs, 1e-15), 1 - 1e-15)\n",
    "\n",
    "log_likelihood <- sum(y_test * log(pred_probs) + (1 - y_test) * log(1 - pred_probs))\n",
    "\n",
    "bic <- -2 * log_likelihood + k * log(n_test)\n",
    "cat(\"BIC of the LASSO logistic regression model:\", bic, \"\\n\")\n"
   ]
  },
  {
   "cell_type": "code",
   "execution_count": null,
   "metadata": {
    "vscode": {
     "languageId": "r"
    }
   },
   "outputs": [],
   "source": [
    "\n",
    "X <- data %>% select(all_of(selected_features)) %>% as.matrix()\n",
    "y <- data$win\n",
    "\n",
    "set.seed(123)\n",
    "train_index <- createDataPartition(y, p = 0.7, list = FALSE)\n",
    "X_train <- X[train_index, ]\n",
    "y_train <- y[train_index]\n",
    "X_test <- X[-train_index, ]\n",
    "y_test <- y[-train_index]\n",
    "\n",
    "X_train_scaled <- scale(X_train)\n",
    "X_test_scaled <- scale(X_test, center = attr(X_train_scaled, \"scaled:center\"),\n",
    "                                  scale = attr(X_train_scaled, \"scaled:scale\"))\n",
    "\n",
    "stan_data <- list(\n",
    "  N = nrow(X_train_scaled),\n",
    "  K = ncol(X_train_scaled),\n",
    "  X = X_train_scaled,\n",
    "  y = y_train\n",
    ")\n",
    "\n"
   ]
  },
  {
   "cell_type": "code",
   "execution_count": 51,
   "metadata": {
    "vscode": {
     "languageId": "r"
    }
   },
   "outputs": [
    {
     "name": "stdout",
     "output_type": "stream",
     "text": [
      "\n",
      "SAMPLING FOR MODEL 'anon_model' NOW (CHAIN 1).\n",
      "Chain 1: \n",
      "Chain 1: Gradient evaluation took 7.4e-05 seconds\n",
      "Chain 1: 1000 transitions using 10 leapfrog steps per transition would take 0.74 seconds.\n",
      "Chain 1: Adjust your expectations accordingly!\n",
      "Chain 1: \n",
      "Chain 1: \n",
      "Chain 1: Iteration:    1 / 2000 [  0%]  (Warmup)\n",
      "Chain 1: Iteration:  200 / 2000 [ 10%]  (Warmup)\n",
      "Chain 1: Iteration:  400 / 2000 [ 20%]  (Warmup)\n",
      "Chain 1: Iteration:  600 / 2000 [ 30%]  (Warmup)\n",
      "Chain 1: Iteration:  800 / 2000 [ 40%]  (Warmup)\n",
      "Chain 1: Iteration: 1000 / 2000 [ 50%]  (Warmup)\n",
      "Chain 1: Iteration: 1001 / 2000 [ 50%]  (Sampling)\n",
      "Chain 1: Iteration: 1200 / 2000 [ 60%]  (Sampling)\n",
      "Chain 1: Iteration: 1400 / 2000 [ 70%]  (Sampling)\n",
      "Chain 1: Iteration: 1600 / 2000 [ 80%]  (Sampling)\n",
      "Chain 1: Iteration: 1800 / 2000 [ 90%]  (Sampling)\n",
      "Chain 1: Iteration: 2000 / 2000 [100%]  (Sampling)\n",
      "Chain 1: \n",
      "Chain 1:  Elapsed Time: 0.027 seconds (Warm-up)\n",
      "Chain 1:                0.026 seconds (Sampling)\n",
      "Chain 1:                0.053 seconds (Total)\n",
      "Chain 1: \n",
      "\n",
      "SAMPLING FOR MODEL 'anon_model' NOW (CHAIN 2).\n",
      "Chain 2: \n",
      "Chain 2: Gradient evaluation took 5e-06 seconds\n",
      "Chain 2: 1000 transitions using 10 leapfrog steps per transition would take 0.05 seconds.\n",
      "Chain 2: Adjust your expectations accordingly!\n",
      "Chain 2: \n",
      "Chain 2: \n",
      "Chain 2: Iteration:    1 / 2000 [  0%]  (Warmup)\n",
      "Chain 2: Iteration:  200 / 2000 [ 10%]  (Warmup)\n",
      "Chain 2: Iteration:  400 / 2000 [ 20%]  (Warmup)\n",
      "Chain 2: Iteration:  600 / 2000 [ 30%]  (Warmup)\n",
      "Chain 2: Iteration:  800 / 2000 [ 40%]  (Warmup)\n",
      "Chain 2: Iteration: 1000 / 2000 [ 50%]  (Warmup)\n",
      "Chain 2: Iteration: 1001 / 2000 [ 50%]  (Sampling)\n",
      "Chain 2: Iteration: 1200 / 2000 [ 60%]  (Sampling)\n",
      "Chain 2: Iteration: 1400 / 2000 [ 70%]  (Sampling)\n",
      "Chain 2: Iteration: 1600 / 2000 [ 80%]  (Sampling)\n",
      "Chain 2: Iteration: 1800 / 2000 [ 90%]  (Sampling)\n",
      "Chain 2: Iteration: 2000 / 2000 [100%]  (Sampling)\n",
      "Chain 2: \n",
      "Chain 2:  Elapsed Time: 0.029 seconds (Warm-up)\n",
      "Chain 2:                0.028 seconds (Sampling)\n",
      "Chain 2:                0.057 seconds (Total)\n",
      "Chain 2: \n",
      "\n",
      "SAMPLING FOR MODEL 'anon_model' NOW (CHAIN 3).\n",
      "Chain 3: \n",
      "Chain 3: Gradient evaluation took 4e-06 seconds\n",
      "Chain 3: 1000 transitions using 10 leapfrog steps per transition would take 0.04 seconds.\n",
      "Chain 3: Adjust your expectations accordingly!\n",
      "Chain 3: \n",
      "Chain 3: \n",
      "Chain 3: Iteration:    1 / 2000 [  0%]  (Warmup)\n",
      "Chain 3: Iteration:  200 / 2000 [ 10%]  (Warmup)\n",
      "Chain 3: Iteration:  400 / 2000 [ 20%]  (Warmup)\n",
      "Chain 3: Iteration:  600 / 2000 [ 30%]  (Warmup)\n",
      "Chain 3: Iteration:  800 / 2000 [ 40%]  (Warmup)\n",
      "Chain 3: Iteration: 1000 / 2000 [ 50%]  (Warmup)\n",
      "Chain 3: Iteration: 1001 / 2000 [ 50%]  (Sampling)\n",
      "Chain 3: Iteration: 1200 / 2000 [ 60%]  (Sampling)\n",
      "Chain 3: Iteration: 1400 / 2000 [ 70%]  (Sampling)\n",
      "Chain 3: Iteration: 1600 / 2000 [ 80%]  (Sampling)\n",
      "Chain 3: Iteration: 1800 / 2000 [ 90%]  (Sampling)\n",
      "Chain 3: Iteration: 2000 / 2000 [100%]  (Sampling)\n",
      "Chain 3: \n",
      "Chain 3:  Elapsed Time: 0.027 seconds (Warm-up)\n",
      "Chain 3:                0.026 seconds (Sampling)\n",
      "Chain 3:                0.053 seconds (Total)\n",
      "Chain 3: \n",
      "\n",
      "SAMPLING FOR MODEL 'anon_model' NOW (CHAIN 4).\n",
      "Chain 4: \n",
      "Chain 4: Gradient evaluation took 5e-06 seconds\n",
      "Chain 4: 1000 transitions using 10 leapfrog steps per transition would take 0.05 seconds.\n",
      "Chain 4: Adjust your expectations accordingly!\n",
      "Chain 4: \n",
      "Chain 4: \n",
      "Chain 4: Iteration:    1 / 2000 [  0%]  (Warmup)\n",
      "Chain 4: Iteration:  200 / 2000 [ 10%]  (Warmup)\n",
      "Chain 4: Iteration:  400 / 2000 [ 20%]  (Warmup)\n",
      "Chain 4: Iteration:  600 / 2000 [ 30%]  (Warmup)\n",
      "Chain 4: Iteration:  800 / 2000 [ 40%]  (Warmup)\n",
      "Chain 4: Iteration: 1000 / 2000 [ 50%]  (Warmup)\n",
      "Chain 4: Iteration: 1001 / 2000 [ 50%]  (Sampling)\n",
      "Chain 4: Iteration: 1200 / 2000 [ 60%]  (Sampling)\n",
      "Chain 4: Iteration: 1400 / 2000 [ 70%]  (Sampling)\n",
      "Chain 4: Iteration: 1600 / 2000 [ 80%]  (Sampling)\n",
      "Chain 4: Iteration: 1800 / 2000 [ 90%]  (Sampling)\n",
      "Chain 4: Iteration: 2000 / 2000 [100%]  (Sampling)\n",
      "Chain 4: \n",
      "Chain 4:  Elapsed Time: 0.028 seconds (Warm-up)\n",
      "Chain 4:                0.027 seconds (Sampling)\n",
      "Chain 4:                0.055 seconds (Total)\n",
      "Chain 4: \n",
      "Inference for Stan model: anon_model.\n",
      "4 chains, each with iter=2000; warmup=1000; thin=1; \n",
      "post-warmup draws per chain=1000, total post-warmup draws=4000.\n",
      "\n",
      "         mean se_mean   sd  2.5%   25%   50%   75% 97.5% n_eff Rhat\n",
      "beta[1]  0.76    0.01 0.57 -0.34  0.37  0.75  1.15  1.90  4691    1\n",
      "beta[2]  0.85    0.01 0.59 -0.24  0.45  0.83  1.23  2.07  4617    1\n",
      "beta[3]  0.65    0.01 0.61 -0.53  0.24  0.65  1.06  1.86  4170    1\n",
      "beta[4]  0.75    0.01 0.67 -0.53  0.28  0.73  1.19  2.09  4392    1\n",
      "beta[5]  0.43    0.01 0.61 -0.73  0.01  0.43  0.83  1.67  4902    1\n",
      "beta[6] -2.45    0.01 0.58 -3.69 -2.83 -2.42 -2.05 -1.39  4782    1\n",
      "\n",
      "Samples were drawn using NUTS(diag_e) at Fri Apr 18 19:03:19 2025.\n",
      "For each parameter, n_eff is a crude measure of effective sample size,\n",
      "and Rhat is the potential scale reduction factor on split chains (at \n",
      "convergence, Rhat=1).\n"
     ]
    }
   ],
   "source": [
    "# Fit model\n",
    "fit <- stan(file = \"bayes_logistic.stan\", data = stan_data,\n",
    "            iter = 2000, chains = 4, seed = 123)\n",
    "\n",
    "# Print results\n",
    "print(fit, pars = c(\"beta\"))\n",
    "\n"
   ]
  },
  {
   "cell_type": "code",
   "execution_count": null,
   "metadata": {
    "vscode": {
     "languageId": "r"
    }
   },
   "outputs": [
    {
     "data": {
      "text/plain": [
       "Confusion Matrix and Statistics\n",
       "\n",
       "          Reference\n",
       "Prediction  0  1\n",
       "         0 11  0\n",
       "         1  0 10\n",
       "                                     \n",
       "               Accuracy : 1          \n",
       "                 95% CI : (0.8389, 1)\n",
       "    No Information Rate : 0.5238     \n",
       "    P-Value [Acc > NIR] : 1.267e-06  \n",
       "                                     \n",
       "                  Kappa : 1          \n",
       "                                     \n",
       " Mcnemar's Test P-Value : NA         \n",
       "                                     \n",
       "            Sensitivity : 1.0000     \n",
       "            Specificity : 1.0000     \n",
       "         Pos Pred Value : 1.0000     \n",
       "         Neg Pred Value : 1.0000     \n",
       "             Prevalence : 0.5238     \n",
       "         Detection Rate : 0.5238     \n",
       "   Detection Prevalence : 0.5238     \n",
       "      Balanced Accuracy : 1.0000     \n",
       "                                     \n",
       "       'Positive' Class : 0          \n",
       "                                     "
      ]
     },
     "metadata": {},
     "output_type": "display_data"
    }
   ],
   "source": [
    "posterior <- extract(fit)\n",
    "beta_post <- posterior$beta\n",
    "\n",
    "pred_probs <- plogis(X_test_scaled %*% t(beta_post))\n",
    "mean_pred_probs <- rowMeans(pred_probs)\n",
    "y_pred <- ifelse(mean_pred_probs > 0.5, 1, 0)\n",
    "\n",
    "confusionMatrix(factor(y_pred), factor(y_test))\n",
    "\n"
   ]
  },
  {
   "cell_type": "code",
   "execution_count": 53,
   "metadata": {
    "vscode": {
     "languageId": "r"
    }
   },
   "outputs": [
    {
     "name": "stdout",
     "output_type": "stream",
     "text": [
      "Correct BIC (using posterior mean): 22.98501 \n"
     ]
    }
   ],
   "source": [
    "\n",
    "beta_mean <- colMeans(beta_post)\n",
    "\n",
    "mean_pred_probs <- plogis(X_test_scaled %*% beta_mean)\n",
    "\n",
    "mean_pred_probs <- pmin(pmax(mean_pred_probs, 1e-15), 1 - 1e-15)\n",
    "\n",
    "# Compute log-likelihood\n",
    "log_lik <- sum(ifelse(y_test == 1, log(mean_pred_probs), log(1 - mean_pred_probs)))\n",
    "\n",
    "# Compute BIC\n",
    "k <- length(beta_mean)  # number of coefficients\n",
    "n <- length(y_test)\n",
    "bic <- -2 * log_lik + k * log(n)\n",
    "\n",
    "cat(\"Correct BIC (using posterior mean):\", bic, \"\\n\")\n"
   ]
  }
 ],
 "metadata": {
  "kernelspec": {
   "display_name": "R",
   "language": "R",
   "name": "ir"
  },
  "language_info": {
   "codemirror_mode": "r",
   "file_extension": ".r",
   "mimetype": "text/x-r-source",
   "name": "R",
   "pygments_lexer": "r",
   "version": "4.3.2"
  }
 },
 "nbformat": 4,
 "nbformat_minor": 2
}
